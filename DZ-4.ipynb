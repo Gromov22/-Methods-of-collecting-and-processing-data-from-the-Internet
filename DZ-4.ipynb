{
 "cells": [
  {
   "cell_type": "markdown",
   "id": "925d4b46",
   "metadata": {},
   "source": [
    "# Задание №1"
   ]
  },
  {
   "cell_type": "markdown",
   "id": "96296b76",
   "metadata": {},
   "source": [
    "Развернуть у себя на компьютере/виртуальной машине/хостинге MongoDB и реализовать функцию, которая будет добавлять только новые вакансии/продукты в вашу базу."
   ]
  },
  {
   "cell_type": "code",
   "execution_count": 1,
   "id": "a33ccb12",
   "metadata": {},
   "outputs": [],
   "source": [
    "import pymongo\n",
    "from pymongo import MongoClient\n",
    "\n",
    "import requests\n",
    "import json\n",
    "\n",
    "from time import sleep\n",
    "from pprint import pprint\n",
    "\n",
    "import pandas as pd"
   ]
  },
  {
   "cell_type": "markdown",
   "id": "335532e6",
   "metadata": {},
   "source": [
    "Загружаем клиент"
   ]
  },
  {
   "cell_type": "code",
   "execution_count": 2,
   "id": "9b280e53",
   "metadata": {},
   "outputs": [
    {
     "name": "stdout",
     "output_type": "stream",
     "text": [
      "Stopping `mongodb-community`... (might take a while)\n",
      "\u001b[34m==>\u001b[0m \u001b[1mSuccessfully stopped `mongodb-community` (label: homebrew.mxcl.mongodb-commu\u001b[0m\n",
      "\u001b[34m==>\u001b[0m \u001b[1mSuccessfully started `mongodb-community` (label: homebrew.mxcl.mongodb-commu\u001b[0m\n"
     ]
    }
   ],
   "source": [
    "!brew services restart mongodb-community@6.0"
   ]
  },
  {
   "cell_type": "code",
   "execution_count": 3,
   "id": "cf7de258",
   "metadata": {},
   "outputs": [],
   "source": [
    "client = MongoClient()"
   ]
  },
  {
   "cell_type": "code",
   "execution_count": 4,
   "id": "5c3f5f2b",
   "metadata": {},
   "outputs": [
    {
     "data": {
      "text/plain": [
       "MongoClient(host=['localhost:27017'], document_class=dict, tz_aware=False, connect=True)"
      ]
     },
     "execution_count": 4,
     "metadata": {},
     "output_type": "execute_result"
    }
   ],
   "source": [
    "client"
   ]
  },
  {
   "cell_type": "markdown",
   "id": "541c19a3",
   "metadata": {},
   "source": [
    "Создаем БД"
   ]
  },
  {
   "cell_type": "code",
   "execution_count": 5,
   "id": "c88edf63",
   "metadata": {},
   "outputs": [],
   "source": [
    "db = client['HH_vacancies_db']"
   ]
  },
  {
   "cell_type": "code",
   "execution_count": 6,
   "id": "cbd75bc3",
   "metadata": {},
   "outputs": [],
   "source": [
    "vacancy_info_collection = db['vacancy_info_collection']"
   ]
  },
  {
   "cell_type": "markdown",
   "id": "fcf0cdc1",
   "metadata": {},
   "source": [
    "Реализуем функцию, которая будет собирать информацию о вакансиях:"
   ]
  },
  {
   "cell_type": "code",
   "execution_count": 7,
   "id": "16355ed0",
   "metadata": {},
   "outputs": [],
   "source": [
    "def hh_find_job_from_API(vacancy, page_number):\n",
    "    url = 'https://api.hh.ru/vacancies'\n",
    "    sleep(3)\n",
    "    \n",
    "    headers = {\n",
    "    'User-Agent': 'Mozilla/5.0 (Macintosh; Intel Mac OS X 13_2_1) AppleWebKit/537.36 (KHTML, like Gecko) Chrome/110.0.0.0 Safari/537.36 OPR/95.0.4635.25',\n",
    "    'content-encoding': 'gzip',\n",
    "    'content-type': 'text/html'\n",
    "        }\n",
    "    params = {\n",
    "        'text': f'NAME:{vacancy}', # Искомая вакансия\n",
    "        'page': f'{page_number}', # Индекс страницы поиска на HH\n",
    "        'per_page': 20 # Кол-во вакансий на 1 странице\n",
    "    }\n",
    "    \n",
    "    response = requests.get('https://api.hh.ru/vacancies', params)\n",
    "    data = response.content.decode() # Декодируем ответ, чтобы Кириллица отображалась корректно\n",
    "    \n",
    "    jsObj = json.loads(data)\n",
    "    result = {}\n",
    "    \n",
    "    for i in jsObj['items']:\n",
    "        name = i['name']\n",
    "        result[name] = {\n",
    "            'Salary': i['salary'],\n",
    "            'Location': i['area']['name'],\n",
    "            'Employer': i['employer']['name'],\n",
    "            'Link': i['alternate_url']\n",
    "        }\n",
    "\n",
    "    with open('hh_find_job_from_API.json', 'w') as f:\n",
    "        json.dump(result, f)\n",
    "        \n",
    "    hh_jobs = pd.read_json('hh_find_job_from_API.json').T\n",
    "    return hh_jobs"
   ]
  },
  {
   "cell_type": "code",
   "execution_count": 8,
   "id": "52be7598",
   "metadata": {},
   "outputs": [
    {
     "data": {
      "text/html": [
       "<div>\n",
       "<style scoped>\n",
       "    .dataframe tbody tr th:only-of-type {\n",
       "        vertical-align: middle;\n",
       "    }\n",
       "\n",
       "    .dataframe tbody tr th {\n",
       "        vertical-align: top;\n",
       "    }\n",
       "\n",
       "    .dataframe thead th {\n",
       "        text-align: right;\n",
       "    }\n",
       "</style>\n",
       "<table border=\"1\" class=\"dataframe\">\n",
       "  <thead>\n",
       "    <tr style=\"text-align: right;\">\n",
       "      <th></th>\n",
       "      <th>Salary</th>\n",
       "      <th>Location</th>\n",
       "      <th>Employer</th>\n",
       "      <th>Link</th>\n",
       "    </tr>\n",
       "  </thead>\n",
       "  <tbody>\n",
       "    <tr>\n",
       "      <th>Разработчик Python</th>\n",
       "      <td>{'from': 100000, 'to': None, 'currency': 'RUR'...</td>\n",
       "      <td>Москва</td>\n",
       "      <td>Универсальная Электронная Платформа</td>\n",
       "      <td>https://hh.ru/vacancy/77234310</td>\n",
       "    </tr>\n",
       "    <tr>\n",
       "      <th>Python-разработчик (Django, DRF)</th>\n",
       "      <td>{'from': 60000, 'to': 220000, 'currency': 'RUR...</td>\n",
       "      <td>Москва</td>\n",
       "      <td>Фабрика Решений</td>\n",
       "      <td>https://hh.ru/vacancy/70705466</td>\n",
       "    </tr>\n",
       "    <tr>\n",
       "      <th>Python программист (Django/Flask)</th>\n",
       "      <td>{'from': None, 'to': 180000, 'currency': 'RUR'...</td>\n",
       "      <td>Москва</td>\n",
       "      <td>Enjoypro</td>\n",
       "      <td>https://hh.ru/vacancy/77204132</td>\n",
       "    </tr>\n",
       "    <tr>\n",
       "      <th>Ведущий Python разработчик (удаленка)</th>\n",
       "      <td>{'from': None, 'to': 8000, 'currency': 'USD', ...</td>\n",
       "      <td>Москва</td>\n",
       "      <td>Apostro</td>\n",
       "      <td>https://hh.ru/vacancy/76832091</td>\n",
       "    </tr>\n",
       "    <tr>\n",
       "      <th>Программист Python - FastAPI</th>\n",
       "      <td>{'from': 180000, 'to': None, 'currency': 'RUR'...</td>\n",
       "      <td>Астана</td>\n",
       "      <td>Digital агентство Piarme</td>\n",
       "      <td>https://hh.ru/vacancy/77244377</td>\n",
       "    </tr>\n",
       "    <tr>\n",
       "      <th>Программист Python</th>\n",
       "      <td>{'from': 90000, 'to': None, 'currency': 'RUR',...</td>\n",
       "      <td>Санкт-Петербург</td>\n",
       "      <td>Парконика</td>\n",
       "      <td>https://hh.ru/vacancy/76331573</td>\n",
       "    </tr>\n",
       "    <tr>\n",
       "      <th>Python developer</th>\n",
       "      <td>None</td>\n",
       "      <td>Москва</td>\n",
       "      <td>АйТи Интеллект</td>\n",
       "      <td>https://hh.ru/vacancy/77302829</td>\n",
       "    </tr>\n",
       "    <tr>\n",
       "      <th>Python разработчик</th>\n",
       "      <td>{'from': None, 'to': 200000, 'currency': 'RUR'...</td>\n",
       "      <td>Москва</td>\n",
       "      <td>Мамаева Ирина Анатольевна</td>\n",
       "      <td>https://hh.ru/vacancy/77032189</td>\n",
       "    </tr>\n",
       "    <tr>\n",
       "      <th>Программист Python Junior</th>\n",
       "      <td>None</td>\n",
       "      <td>Екатеринбург</td>\n",
       "      <td>BRANDPOL</td>\n",
       "      <td>https://hh.ru/vacancy/77146976</td>\n",
       "    </tr>\n",
       "    <tr>\n",
       "      <th>Python разработчик (аккредитованная компания)</th>\n",
       "      <td>{'from': 270000, 'to': None, 'currency': 'RUR'...</td>\n",
       "      <td>Москва</td>\n",
       "      <td>Ассоциация IPChain</td>\n",
       "      <td>https://hh.ru/vacancy/77071763</td>\n",
       "    </tr>\n",
       "    <tr>\n",
       "      <th>Python Backend Developer / WEB - разработчик</th>\n",
       "      <td>{'from': 300000, 'to': 450000, 'currency': 'RU...</td>\n",
       "      <td>Москва</td>\n",
       "      <td>Перфект Системс</td>\n",
       "      <td>https://hh.ru/vacancy/72216524</td>\n",
       "    </tr>\n",
       "    <tr>\n",
       "      <th>Python-разработчик</th>\n",
       "      <td>None</td>\n",
       "      <td>Тюмень</td>\n",
       "      <td>DIMEDIA</td>\n",
       "      <td>https://hh.ru/vacancy/76727757</td>\n",
       "    </tr>\n",
       "    <tr>\n",
       "      <th>Python Developer по работе с ChatGPT (генеративным AI)</th>\n",
       "      <td>None</td>\n",
       "      <td>Москва</td>\n",
       "      <td>Welltory</td>\n",
       "      <td>https://hh.ru/vacancy/77144612</td>\n",
       "    </tr>\n",
       "    <tr>\n",
       "      <th>Разработчик бэкэнд (Python)</th>\n",
       "      <td>{'from': 150000, 'to': 180000, 'currency': 'RU...</td>\n",
       "      <td>Москва</td>\n",
       "      <td>АНО Инфокультура</td>\n",
       "      <td>https://hh.ru/vacancy/76712573</td>\n",
       "    </tr>\n",
       "  </tbody>\n",
       "</table>\n",
       "</div>"
      ],
      "text/plain": [
       "                                                                                               Salary  \\\n",
       "Разработчик Python                                  {'from': 100000, 'to': None, 'currency': 'RUR'...   \n",
       "Python-разработчик (Django, DRF)                    {'from': 60000, 'to': 220000, 'currency': 'RUR...   \n",
       "Python программист (Django/Flask)                   {'from': None, 'to': 180000, 'currency': 'RUR'...   \n",
       "Ведущий Python разработчик (удаленка)               {'from': None, 'to': 8000, 'currency': 'USD', ...   \n",
       "Программист Python - FastAPI                        {'from': 180000, 'to': None, 'currency': 'RUR'...   \n",
       "Программист Python                                  {'from': 90000, 'to': None, 'currency': 'RUR',...   \n",
       "Python developer                                                                                 None   \n",
       "Python разработчик                                  {'from': None, 'to': 200000, 'currency': 'RUR'...   \n",
       "Программист Python Junior                                                                        None   \n",
       "Python разработчик (аккредитованная компания)       {'from': 270000, 'to': None, 'currency': 'RUR'...   \n",
       "Python Backend Developer / WEB - разработчик        {'from': 300000, 'to': 450000, 'currency': 'RU...   \n",
       "Python-разработчик                                                                               None   \n",
       "Python Developer по работе с ChatGPT (генератив...                                               None   \n",
       "Разработчик бэкэнд (Python)                         {'from': 150000, 'to': 180000, 'currency': 'RU...   \n",
       "\n",
       "                                                           Location  \\\n",
       "Разработчик Python                                           Москва   \n",
       "Python-разработчик (Django, DRF)                             Москва   \n",
       "Python программист (Django/Flask)                            Москва   \n",
       "Ведущий Python разработчик (удаленка)                        Москва   \n",
       "Программист Python - FastAPI                                 Астана   \n",
       "Программист Python                                  Санкт-Петербург   \n",
       "Python developer                                             Москва   \n",
       "Python разработчик                                           Москва   \n",
       "Программист Python Junior                              Екатеринбург   \n",
       "Python разработчик (аккредитованная компания)                Москва   \n",
       "Python Backend Developer / WEB - разработчик                 Москва   \n",
       "Python-разработчик                                           Тюмень   \n",
       "Python Developer по работе с ChatGPT (генератив...           Москва   \n",
       "Разработчик бэкэнд (Python)                                  Москва   \n",
       "\n",
       "                                                                               Employer  \\\n",
       "Разработчик Python                                  Универсальная Электронная Платформа   \n",
       "Python-разработчик (Django, DRF)                                        Фабрика Решений   \n",
       "Python программист (Django/Flask)                                              Enjoypro   \n",
       "Ведущий Python разработчик (удаленка)                                           Apostro   \n",
       "Программист Python - FastAPI                                   Digital агентство Piarme   \n",
       "Программист Python                                                            Парконика   \n",
       "Python developer                                                         АйТи Интеллект   \n",
       "Python разработчик                                            Мамаева Ирина Анатольевна   \n",
       "Программист Python Junior                                                      BRANDPOL   \n",
       "Python разработчик (аккредитованная компания)                        Ассоциация IPChain   \n",
       "Python Backend Developer / WEB - разработчик                            Перфект Системс   \n",
       "Python-разработчик                                                              DIMEDIA   \n",
       "Python Developer по работе с ChatGPT (генератив...                             Welltory   \n",
       "Разработчик бэкэнд (Python)                                            АНО Инфокультура   \n",
       "\n",
       "                                                                              Link  \n",
       "Разработчик Python                                  https://hh.ru/vacancy/77234310  \n",
       "Python-разработчик (Django, DRF)                    https://hh.ru/vacancy/70705466  \n",
       "Python программист (Django/Flask)                   https://hh.ru/vacancy/77204132  \n",
       "Ведущий Python разработчик (удаленка)               https://hh.ru/vacancy/76832091  \n",
       "Программист Python - FastAPI                        https://hh.ru/vacancy/77244377  \n",
       "Программист Python                                  https://hh.ru/vacancy/76331573  \n",
       "Python developer                                    https://hh.ru/vacancy/77302829  \n",
       "Python разработчик                                  https://hh.ru/vacancy/77032189  \n",
       "Программист Python Junior                           https://hh.ru/vacancy/77146976  \n",
       "Python разработчик (аккредитованная компания)       https://hh.ru/vacancy/77071763  \n",
       "Python Backend Developer / WEB - разработчик        https://hh.ru/vacancy/72216524  \n",
       "Python-разработчик                                  https://hh.ru/vacancy/76727757  \n",
       "Python Developer по работе с ChatGPT (генератив...  https://hh.ru/vacancy/77144612  \n",
       "Разработчик бэкэнд (Python)                         https://hh.ru/vacancy/76712573  "
      ]
     },
     "execution_count": 8,
     "metadata": {},
     "output_type": "execute_result"
    }
   ],
   "source": [
    "hh_find_job_from_API('python', '0')"
   ]
  },
  {
   "cell_type": "markdown",
   "id": "dc8f9479",
   "metadata": {},
   "source": [
    "Реализуем функцию, которая будет коллекционировать данные в нашу бд:"
   ]
  },
  {
   "cell_type": "code",
   "execution_count": 9,
   "id": "5c181c69",
   "metadata": {},
   "outputs": [],
   "source": [
    "def mongo_insert_data():\n",
    "    with open('hh_find_job_from_API.json', 'r') as f:\n",
    "        content = json.load(f)\n",
    "    line = content.keys()\n",
    "    result = []\n",
    "    for line in content:\n",
    "        data = {\n",
    "            'Vacancy': line,\n",
    "            'Salary': content.get(line)['Salary'],\n",
    "            'Location':content.get(line)['Location'],\n",
    "            'Employer':content.get(line)['Employer'],\n",
    "            'Link': content.get(line)['Link']\n",
    "        }\n",
    "        result.append(data)\n",
    "        \n",
    "    counter = 0\n",
    "    while counter < len(result):\n",
    "        vacancy_info_collection.insert_one(result[counter])\n",
    "        counter += 1\n",
    "     \n",
    "    return f'Data successfully inserted'"
   ]
  },
  {
   "cell_type": "markdown",
   "id": "004f9610",
   "metadata": {},
   "source": [
    "Для теста вызываем функцию несколько раз:"
   ]
  },
  {
   "cell_type": "code",
   "execution_count": 13,
   "id": "2f834be1",
   "metadata": {},
   "outputs": [
    {
     "data": {
      "text/plain": [
       "'Data successfully inserted'"
      ]
     },
     "execution_count": 13,
     "metadata": {},
     "output_type": "execute_result"
    }
   ],
   "source": [
    "mongo_insert_data()"
   ]
  },
  {
   "cell_type": "code",
   "execution_count": 14,
   "id": "e74e9c33",
   "metadata": {},
   "outputs": [
    {
     "data": {
      "text/plain": [
       "72"
      ]
     },
     "execution_count": 14,
     "metadata": {},
     "output_type": "execute_result"
    }
   ],
   "source": [
    "vacancy_info_collection.count_documents({})"
   ]
  },
  {
   "cell_type": "markdown",
   "id": "d2df9c8f",
   "metadata": {},
   "source": [
    "Избавимся от дубликатов:"
   ]
  },
  {
   "cell_type": "code",
   "execution_count": 15,
   "id": "539dd5e9",
   "metadata": {},
   "outputs": [],
   "source": [
    "def drop_duplicates(collection):\n",
    "    df = pd.DataFrame(collection.find())\n",
    "    df = df.drop_duplicates(subset=['Link'])\n",
    "    df = df.to_dict('records')\n",
    "    \n",
    "    collection.delete_many({})\n",
    "    collection.insert_many(df)\n",
    "    return collection"
   ]
  },
  {
   "cell_type": "code",
   "execution_count": 16,
   "id": "1c7d316e",
   "metadata": {},
   "outputs": [
    {
     "data": {
      "text/plain": [
       "Collection(Database(MongoClient(host=['localhost:27017'], document_class=dict, tz_aware=False, connect=True), 'HH_vacancies_db'), 'vacancy_info_collection')"
      ]
     },
     "execution_count": 16,
     "metadata": {},
     "output_type": "execute_result"
    }
   ],
   "source": [
    "drop_duplicates(vacancy_info_collection)"
   ]
  },
  {
   "cell_type": "code",
   "execution_count": 17,
   "id": "222c3196",
   "metadata": {},
   "outputs": [
    {
     "data": {
      "text/plain": [
       "17"
      ]
     },
     "execution_count": 17,
     "metadata": {},
     "output_type": "execute_result"
    }
   ],
   "source": [
    "vacancy_info_collection.count_documents({})"
   ]
  },
  {
   "cell_type": "code",
   "execution_count": 18,
   "id": "f9f69996",
   "metadata": {},
   "outputs": [
    {
     "name": "stdout",
     "output_type": "stream",
     "text": [
      "(0,\n",
      " {'Employer': 'Универсальная Электронная Платформа',\n",
      "  'Link': 'https://hh.ru/vacancy/77234310',\n",
      "  'Location': 'Москва',\n",
      "  'Salary': {'currency': 'RUR', 'from': 100000, 'gross': False, 'to': None},\n",
      "  'Vacancy': 'Разработчик Python',\n",
      "  '_id': ObjectId('63f55706d0a5afb9036084bc')})\n",
      "(1,\n",
      " {'Employer': 'Фабрика Решений',\n",
      "  'Link': 'https://hh.ru/vacancy/70705466',\n",
      "  'Location': 'Москва',\n",
      "  'Salary': {'currency': 'RUR', 'from': 60000, 'gross': False, 'to': 220000},\n",
      "  'Vacancy': 'Python-разработчик (Django, DRF)',\n",
      "  '_id': ObjectId('63f55706d0a5afb9036084bd')})\n",
      "(2,\n",
      " {'Employer': 'Apostro',\n",
      "  'Link': 'https://hh.ru/vacancy/76832091',\n",
      "  'Location': 'Москва',\n",
      "  'Salary': {'currency': 'USD', 'from': None, 'gross': True, 'to': 8000},\n",
      "  'Vacancy': 'Ведущий Python разработчик (удаленка)',\n",
      "  '_id': ObjectId('63f55706d0a5afb9036084be')})\n",
      "(3,\n",
      " {'Employer': 'Digital агентство Piarme',\n",
      "  'Link': 'https://hh.ru/vacancy/77244377',\n",
      "  'Location': 'Астана',\n",
      "  'Salary': {'currency': 'RUR', 'from': 180000, 'gross': False, 'to': None},\n",
      "  'Vacancy': 'Программист Python - FastAPI',\n",
      "  '_id': ObjectId('63f55706d0a5afb9036084bf')})\n",
      "(4,\n",
      " {'Employer': 'Enjoypro',\n",
      "  'Link': 'https://hh.ru/vacancy/77204132',\n",
      "  'Location': 'Москва',\n",
      "  'Salary': {'currency': 'RUR', 'from': None, 'gross': False, 'to': 180000},\n",
      "  'Vacancy': 'Python программист (Django/Flask)',\n",
      "  '_id': ObjectId('63f55706d0a5afb9036084c0')})\n",
      "(5,\n",
      " {'Employer': '24 часа ТВ',\n",
      "  'Link': 'https://hh.ru/vacancy/76093704',\n",
      "  'Location': 'Москва',\n",
      "  'Salary': {'currency': 'RUR', 'from': 250000, 'gross': False, 'to': None},\n",
      "  'Vacancy': 'Python разработчик (Middle)',\n",
      "  '_id': ObjectId('63f55706d0a5afb9036084c1')})\n",
      "(6,\n",
      " {'Employer': 'Мамаева Ирина Анатольевна',\n",
      "  'Link': 'https://hh.ru/vacancy/77032189',\n",
      "  'Location': 'Москва',\n",
      "  'Salary': {'currency': 'RUR', 'from': None, 'gross': False, 'to': 200000},\n",
      "  'Vacancy': 'Python разработчик',\n",
      "  '_id': ObjectId('63f55706d0a5afb9036084c2')})\n",
      "(7,\n",
      " {'Employer': 'Парконика',\n",
      "  'Link': 'https://hh.ru/vacancy/76331573',\n",
      "  'Location': 'Санкт-Петербург',\n",
      "  'Salary': {'currency': 'RUR', 'from': 90000, 'gross': False, 'to': None},\n",
      "  'Vacancy': 'Программист Python',\n",
      "  '_id': ObjectId('63f55706d0a5afb9036084c3')})\n",
      "(8,\n",
      " {'Employer': 'Subtotal',\n",
      "  'Link': 'https://hh.ru/vacancy/77107980',\n",
      "  'Location': 'Санкт-Петербург',\n",
      "  'Salary': {'currency': 'RUR', 'from': 120000, 'gross': False, 'to': 240000},\n",
      "  'Vacancy': 'Python developer',\n",
      "  '_id': ObjectId('63f55706d0a5afb9036084c4')})\n",
      "(9,\n",
      " {'Employer': 'BRANDPOL',\n",
      "  'Link': 'https://hh.ru/vacancy/77146976',\n",
      "  'Location': 'Екатеринбург',\n",
      "  'Salary': None,\n",
      "  'Vacancy': 'Программист Python Junior',\n",
      "  '_id': ObjectId('63f55706d0a5afb9036084c5')})\n",
      "(10,\n",
      " {'Employer': 'Ассоциация IPChain',\n",
      "  'Link': 'https://hh.ru/vacancy/77071763',\n",
      "  'Location': 'Москва',\n",
      "  'Salary': {'currency': 'RUR', 'from': 270000, 'gross': False, 'to': None},\n",
      "  'Vacancy': 'Python разработчик (аккредитованная компания)',\n",
      "  '_id': ObjectId('63f55706d0a5afb9036084c6')})\n",
      "(11,\n",
      " {'Employer': 'Перфект Системс',\n",
      "  'Link': 'https://hh.ru/vacancy/72216524',\n",
      "  'Location': 'Москва',\n",
      "  'Salary': {'currency': 'RUR', 'from': 300000, 'gross': False, 'to': 450000},\n",
      "  'Vacancy': 'Python Backend Developer / WEB - разработчик',\n",
      "  '_id': ObjectId('63f55706d0a5afb9036084c7')})\n",
      "(12,\n",
      " {'Employer': 'DIMEDIA',\n",
      "  'Link': 'https://hh.ru/vacancy/76727757',\n",
      "  'Location': 'Тюмень',\n",
      "  'Salary': None,\n",
      "  'Vacancy': 'Python-разработчик',\n",
      "  '_id': ObjectId('63f55706d0a5afb9036084c8')})\n",
      "(13,\n",
      " {'Employer': 'АНО Инфокультура',\n",
      "  'Link': 'https://hh.ru/vacancy/76712573',\n",
      "  'Location': 'Москва',\n",
      "  'Salary': {'currency': 'RUR', 'from': 150000, 'gross': False, 'to': 180000},\n",
      "  'Vacancy': 'Разработчик бэкэнд (Python)',\n",
      "  '_id': ObjectId('63f55706d0a5afb9036084c9')})\n",
      "(14,\n",
      " {'Employer': 'Welltory',\n",
      "  'Link': 'https://hh.ru/vacancy/77144612',\n",
      "  'Location': 'Москва',\n",
      "  'Salary': None,\n",
      "  'Vacancy': 'Python Developer по работе с ChatGPT (генеративным AI)',\n",
      "  '_id': ObjectId('63f55706d0a5afb9036084ca')})\n",
      "(15,\n",
      " {'Employer': 'Зина Групп',\n",
      "  'Link': 'https://hh.ru/vacancy/76042812',\n",
      "  'Location': 'Алматы',\n",
      "  'Salary': {'currency': 'KZT', 'from': 1000000, 'gross': False, 'to': None},\n",
      "  'Vacancy': 'Middle Backend Python Developer',\n",
      "  '_id': ObjectId('63f55706d0a5afb9036084cb')})\n",
      "(16,\n",
      " {'Employer': 'АйТи Интеллект',\n",
      "  'Link': 'https://hh.ru/vacancy/77302829',\n",
      "  'Location': 'Москва',\n",
      "  'Salary': None,\n",
      "  'Vacancy': 'Python developer',\n",
      "  '_id': ObjectId('63f6091168e35fc9fd06f85a')})\n"
     ]
    }
   ],
   "source": [
    "for i in enumerate(vacancy_info_collection.find()):\n",
    "    pprint(i)"
   ]
  },
  {
   "cell_type": "markdown",
   "id": "ae21bd92",
   "metadata": {},
   "source": [
    "# Задание №2"
   ]
  },
  {
   "cell_type": "markdown",
   "id": "505ecb73",
   "metadata": {},
   "source": [
    "Написать функцию, которая производит поиск и выводит на экран вакансии с заработной платой больше введённой суммы (необходимо анализировать оба поля зарплаты)."
   ]
  },
  {
   "cell_type": "code",
   "execution_count": 34,
   "id": "f4d99854",
   "metadata": {},
   "outputs": [],
   "source": [
    "def gt_salary(collection, salary, currency):\n",
    "    result = []\n",
    "    for i in collection.find():\n",
    "        try:\n",
    "            if i['Salary']['from'] > salary or i['Salary']['to'] > salary:\n",
    "                if i['Salary']['currency'] == currency:\n",
    "                    result.append(i)\n",
    "        except TypeError:\n",
    "            continue\n",
    "            \n",
    "    return result"
   ]
  },
  {
   "cell_type": "code",
   "execution_count": 36,
   "id": "7004cc20",
   "metadata": {},
   "outputs": [
    {
     "data": {
      "text/plain": [
       "[{'_id': ObjectId('63f55706d0a5afb9036084c6'),\n",
       "  'Vacancy': 'Python разработчик (аккредитованная компания)',\n",
       "  'Salary': {'from': 270000, 'to': None, 'currency': 'RUR', 'gross': False},\n",
       "  'Location': 'Москва',\n",
       "  'Employer': 'Ассоциация IPChain',\n",
       "  'Link': 'https://hh.ru/vacancy/77071763'},\n",
       " {'_id': ObjectId('63f55706d0a5afb9036084c7'),\n",
       "  'Vacancy': 'Python Backend Developer / WEB - разработчик',\n",
       "  'Salary': {'from': 300000, 'to': 450000, 'currency': 'RUR', 'gross': False},\n",
       "  'Location': 'Москва',\n",
       "  'Employer': 'Перфект Системс',\n",
       "  'Link': 'https://hh.ru/vacancy/72216524'}]"
      ]
     },
     "execution_count": 36,
     "metadata": {},
     "output_type": "execute_result"
    }
   ],
   "source": [
    "gt_salary(vacancy_info_collection, 250000, 'RUR')"
   ]
  },
  {
   "cell_type": "code",
   "execution_count": null,
   "id": "992e6464",
   "metadata": {},
   "outputs": [],
   "source": []
  }
 ],
 "metadata": {
  "kernelspec": {
   "display_name": "Python 3 (ipykernel)",
   "language": "python",
   "name": "python3"
  },
  "language_info": {
   "codemirror_mode": {
    "name": "ipython",
    "version": 3
   },
   "file_extension": ".py",
   "mimetype": "text/x-python",
   "name": "python",
   "nbconvert_exporter": "python",
   "pygments_lexer": "ipython3",
   "version": "3.9.12"
  }
 },
 "nbformat": 4,
 "nbformat_minor": 5
}
