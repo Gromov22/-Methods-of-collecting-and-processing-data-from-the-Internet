{
 "cells": [
  {
   "cell_type": "code",
   "execution_count": 10,
   "id": "f0a5fce4",
   "metadata": {},
   "outputs": [],
   "source": [
    "from pprint import pprint\n",
    "from pymongo import MongoClient\n",
    "\n",
    "import pandas as pd"
   ]
  },
  {
   "cell_type": "code",
   "execution_count": 2,
   "id": "e5248d2f",
   "metadata": {},
   "outputs": [
    {
     "name": "stdout",
     "output_type": "stream",
     "text": [
      "Stopping `mongodb-community`... (might take a while)\n",
      "\u001b[34m==>\u001b[0m \u001b[1mSuccessfully stopped `mongodb-community` (label: homebrew.mxcl.mongodb-commu\u001b[0m\n",
      "\u001b[34m==>\u001b[0m \u001b[1mSuccessfully started `mongodb-community` (label: homebrew.mxcl.mongodb-commu\u001b[0m\n"
     ]
    }
   ],
   "source": [
    "!brew services restart mongodb-community@6.0"
   ]
  },
  {
   "cell_type": "code",
   "execution_count": 3,
   "id": "b020618f",
   "metadata": {},
   "outputs": [],
   "source": [
    "client = MongoClient()"
   ]
  },
  {
   "cell_type": "code",
   "execution_count": 4,
   "id": "18a86257",
   "metadata": {},
   "outputs": [
    {
     "data": {
      "text/plain": [
       "['Cars_DB', 'HH_vacancies_db', 'admin', 'config', 'local']"
      ]
     },
     "execution_count": 4,
     "metadata": {},
     "output_type": "execute_result"
    }
   ],
   "source": [
    "client.list_database_names()"
   ]
  },
  {
   "cell_type": "code",
   "execution_count": 5,
   "id": "9d0188a7",
   "metadata": {},
   "outputs": [],
   "source": [
    "Cars_DB = client['Cars_DB']"
   ]
  },
  {
   "cell_type": "code",
   "execution_count": 6,
   "id": "eb76d51e",
   "metadata": {},
   "outputs": [
    {
     "data": {
      "text/plain": [
       "['drom']"
      ]
     },
     "execution_count": 6,
     "metadata": {},
     "output_type": "execute_result"
    }
   ],
   "source": [
    "Cars_DB.list_collection_names()"
   ]
  },
  {
   "cell_type": "code",
   "execution_count": 7,
   "id": "136493c7",
   "metadata": {},
   "outputs": [],
   "source": [
    "drom = Cars_DB['drom']"
   ]
  },
  {
   "cell_type": "code",
   "execution_count": 8,
   "id": "f33554e3",
   "metadata": {},
   "outputs": [
    {
     "data": {
      "text/plain": [
       "246"
      ]
     },
     "execution_count": 8,
     "metadata": {},
     "output_type": "execute_result"
    }
   ],
   "source": [
    "n_cars = len(list(drom.find()))\n",
    "n_cars"
   ]
  },
  {
   "cell_type": "code",
   "execution_count": 13,
   "id": "389f1b03",
   "metadata": {},
   "outputs": [
    {
     "data": {
      "text/plain": [
       "{'_id': ObjectId('63fa0e42d0235404cad2be07'),\n",
       " 'name': ['Продажа Honda Accord, 2018 год в Уфе'],\n",
       " 'price': ['2 049 000', '₽'],\n",
       " 'engine': ['бензин, 1.5 л'],\n",
       " 'power': ['192', 'л.с.'],\n",
       " 'transmission': 'вариатор',\n",
       " 'drive': 'передний',\n",
       " 'body': 'седан',\n",
       " 'color': 'серый',\n",
       " 'mileage': ['72625'],\n",
       " 'steering_wheel': 'левый',\n",
       " 'generation': ['10 поколение'],\n",
       " 'equipment': ['1.5T CVT Sport'],\n",
       " 'link': 'https://ufa.drom.ru/honda/accord/48694436.html'}"
      ]
     },
     "execution_count": 13,
     "metadata": {},
     "output_type": "execute_result"
    }
   ],
   "source": [
    "car = drom.find()\n",
    "car.next()"
   ]
  },
  {
   "cell_type": "code",
   "execution_count": 12,
   "id": "d0185367",
   "metadata": {},
   "outputs": [
    {
     "data": {
      "text/html": [
       "<div>\n",
       "<style scoped>\n",
       "    .dataframe tbody tr th:only-of-type {\n",
       "        vertical-align: middle;\n",
       "    }\n",
       "\n",
       "    .dataframe tbody tr th {\n",
       "        vertical-align: top;\n",
       "    }\n",
       "\n",
       "    .dataframe thead th {\n",
       "        text-align: right;\n",
       "    }\n",
       "</style>\n",
       "<table border=\"1\" class=\"dataframe\">\n",
       "  <thead>\n",
       "    <tr style=\"text-align: right;\">\n",
       "      <th></th>\n",
       "      <th>name</th>\n",
       "      <th>price</th>\n",
       "      <th>engine</th>\n",
       "      <th>power</th>\n",
       "      <th>transmission</th>\n",
       "      <th>drive</th>\n",
       "      <th>body</th>\n",
       "      <th>color</th>\n",
       "      <th>mileage</th>\n",
       "      <th>steering_wheel</th>\n",
       "      <th>generation</th>\n",
       "      <th>equipment</th>\n",
       "      <th>link</th>\n",
       "    </tr>\n",
       "  </thead>\n",
       "  <tbody>\n",
       "    <tr>\n",
       "      <th>0</th>\n",
       "      <td>[Продажа Honda Accord, 2018 год в Уфе]</td>\n",
       "      <td>[2 049 000, ₽]</td>\n",
       "      <td>[бензин, 1.5 л]</td>\n",
       "      <td>[192, л.с.]</td>\n",
       "      <td>вариатор</td>\n",
       "      <td>передний</td>\n",
       "      <td>седан</td>\n",
       "      <td>серый</td>\n",
       "      <td>[72625]</td>\n",
       "      <td>левый</td>\n",
       "      <td>[10 поколение]</td>\n",
       "      <td>[1.5T CVT Sport]</td>\n",
       "      <td>https://ufa.drom.ru/honda/accord/48694436.html</td>\n",
       "    </tr>\n",
       "    <tr>\n",
       "      <th>1</th>\n",
       "      <td>[Продажа Honda Accord, 2016 год в Новосибирске]</td>\n",
       "      <td>[1 715 000, ₽]</td>\n",
       "      <td>[бензин, 2.4 л]</td>\n",
       "      <td>[189, л.с.]</td>\n",
       "      <td>вариатор</td>\n",
       "      <td>передний</td>\n",
       "      <td>седан</td>\n",
       "      <td>черный</td>\n",
       "      <td>[117000]</td>\n",
       "      <td>левый</td>\n",
       "      <td>[9 поколение, рестайлинг]</td>\n",
       "      <td>[2.4 CVT Sport]</td>\n",
       "      <td>https://novosibirsk.drom.ru/honda/accord/49073...</td>\n",
       "    </tr>\n",
       "    <tr>\n",
       "      <th>2</th>\n",
       "      <td>[Продажа Honda Accord, 2019 год в Красноярске]</td>\n",
       "      <td>[2 350 000, ₽]</td>\n",
       "      <td>[бензин, 1.5 л]</td>\n",
       "      <td>[192, л.с.]</td>\n",
       "      <td>вариатор</td>\n",
       "      <td>передний</td>\n",
       "      <td>седан</td>\n",
       "      <td>серый</td>\n",
       "      <td>[80000]</td>\n",
       "      <td>левый</td>\n",
       "      <td>[10 поколение]</td>\n",
       "      <td>[1.5T CVT Sport]</td>\n",
       "      <td>https://krasnoyarsk.drom.ru/honda/accord/49402...</td>\n",
       "    </tr>\n",
       "    <tr>\n",
       "      <th>3</th>\n",
       "      <td>[Продажа Honda Accord, 2021 год в Москве]</td>\n",
       "      <td>[2 840 000, ₽]</td>\n",
       "      <td>[бензин, 1.5 л]</td>\n",
       "      <td>[192, л.с.]</td>\n",
       "      <td>вариатор</td>\n",
       "      <td>передний</td>\n",
       "      <td>седан</td>\n",
       "      <td>серый</td>\n",
       "      <td>[12171]</td>\n",
       "      <td>левый</td>\n",
       "      <td>[10 поколение, рестайлинг]</td>\n",
       "      <td>None</td>\n",
       "      <td>https://moscow.drom.ru/honda/accord/49928842.html</td>\n",
       "    </tr>\n",
       "    <tr>\n",
       "      <th>4</th>\n",
       "      <td>[Продажа Honda Accord, 2016 год в Осинниках]</td>\n",
       "      <td>[2 275 000, ₽]</td>\n",
       "      <td>[бензин, 2.0 л, гибрид]</td>\n",
       "      <td>[145, л.с.]</td>\n",
       "      <td>вариатор</td>\n",
       "      <td>передний</td>\n",
       "      <td>седан</td>\n",
       "      <td>белый</td>\n",
       "      <td>[102000]</td>\n",
       "      <td>правый</td>\n",
       "      <td>[9 поколение, рестайлинг]</td>\n",
       "      <td>[2.0 Hybrid EX]</td>\n",
       "      <td>https://osinniki.drom.ru/honda/accord/48540043...</td>\n",
       "    </tr>\n",
       "  </tbody>\n",
       "</table>\n",
       "</div>"
      ],
      "text/plain": [
       "                                              name           price  \\\n",
       "0           [Продажа Honda Accord, 2018 год в Уфе]  [2 049 000, ₽]   \n",
       "1  [Продажа Honda Accord, 2016 год в Новосибирске]  [1 715 000, ₽]   \n",
       "2   [Продажа Honda Accord, 2019 год в Красноярске]  [2 350 000, ₽]   \n",
       "3        [Продажа Honda Accord, 2021 год в Москве]  [2 840 000, ₽]   \n",
       "4     [Продажа Honda Accord, 2016 год в Осинниках]  [2 275 000, ₽]   \n",
       "\n",
       "                    engine        power transmission     drive   body   color  \\\n",
       "0          [бензин, 1.5 л]  [192, л.с.]     вариатор  передний  седан   серый   \n",
       "1          [бензин, 2.4 л]  [189, л.с.]     вариатор  передний  седан  черный   \n",
       "2          [бензин, 1.5 л]  [192, л.с.]     вариатор  передний  седан   серый   \n",
       "3          [бензин, 1.5 л]  [192, л.с.]     вариатор  передний  седан   серый   \n",
       "4  [бензин, 2.0 л, гибрид]  [145, л.с.]     вариатор  передний  седан   белый   \n",
       "\n",
       "    mileage steering_wheel                  generation         equipment  \\\n",
       "0   [72625]          левый              [10 поколение]  [1.5T CVT Sport]   \n",
       "1  [117000]          левый   [9 поколение, рестайлинг]   [2.4 CVT Sport]   \n",
       "2   [80000]          левый              [10 поколение]  [1.5T CVT Sport]   \n",
       "3   [12171]          левый  [10 поколение, рестайлинг]              None   \n",
       "4  [102000]         правый   [9 поколение, рестайлинг]   [2.0 Hybrid EX]   \n",
       "\n",
       "                                                link  \n",
       "0     https://ufa.drom.ru/honda/accord/48694436.html  \n",
       "1  https://novosibirsk.drom.ru/honda/accord/49073...  \n",
       "2  https://krasnoyarsk.drom.ru/honda/accord/49402...  \n",
       "3  https://moscow.drom.ru/honda/accord/49928842.html  \n",
       "4  https://osinniki.drom.ru/honda/accord/48540043...  "
      ]
     },
     "execution_count": 12,
     "metadata": {},
     "output_type": "execute_result"
    }
   ],
   "source": [
    "df = pd.DataFrame(drom.find())\n",
    "df = df.drop('_id', axis=1)\n",
    "df.head()"
   ]
  }
 ],
 "metadata": {
  "kernelspec": {
   "display_name": "Python 3 (ipykernel)",
   "language": "python",
   "name": "python3"
  },
  "language_info": {
   "codemirror_mode": {
    "name": "ipython",
    "version": 3
   },
   "file_extension": ".py",
   "mimetype": "text/x-python",
   "name": "python",
   "nbconvert_exporter": "python",
   "pygments_lexer": "ipython3",
   "version": "3.9.12"
  }
 },
 "nbformat": 4,
 "nbformat_minor": 5
}
