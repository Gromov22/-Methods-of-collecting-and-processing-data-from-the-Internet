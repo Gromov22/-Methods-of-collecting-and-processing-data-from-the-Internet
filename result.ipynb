{
 "cells": [
  {
   "cell_type": "code",
   "execution_count": 1,
   "id": "706c1b90",
   "metadata": {},
   "outputs": [],
   "source": [
    "from pprint import pprint\n",
    "from pymongo import MongoClient\n",
    "\n",
    "import pandas as pd"
   ]
  },
  {
   "cell_type": "code",
   "execution_count": 2,
   "id": "05f396b9",
   "metadata": {},
   "outputs": [
    {
     "name": "stdout",
     "output_type": "stream",
     "text": [
      "Stopping `mongodb-community`... (might take a while)\n",
      "\u001b[34m==>\u001b[0m \u001b[1mSuccessfully stopped `mongodb-community` (label: homebrew.mxcl.mongodb-commu\u001b[0m\n",
      "\u001b[34m==>\u001b[0m \u001b[1mSuccessfully started `mongodb-community` (label: homebrew.mxcl.mongodb-commu\u001b[0m\n"
     ]
    }
   ],
   "source": [
    "!brew services restart mongodb-community@6.0"
   ]
  },
  {
   "cell_type": "code",
   "execution_count": 3,
   "id": "49a74e7f",
   "metadata": {},
   "outputs": [],
   "source": [
    "client = MongoClient()"
   ]
  },
  {
   "cell_type": "code",
   "execution_count": 4,
   "id": "be3560f7",
   "metadata": {},
   "outputs": [
    {
     "data": {
      "text/plain": [
       "['Books24_DB', 'Cars_DB', 'HH_vacancies_db', 'admin', 'config', 'local']"
      ]
     },
     "execution_count": 4,
     "metadata": {},
     "output_type": "execute_result"
    }
   ],
   "source": [
    "client.list_database_names()"
   ]
  },
  {
   "cell_type": "code",
   "execution_count": 5,
   "id": "8ddb5753",
   "metadata": {},
   "outputs": [],
   "source": [
    "books_DB = client['Books24_DB']"
   ]
  },
  {
   "cell_type": "code",
   "execution_count": 6,
   "id": "22d51555",
   "metadata": {},
   "outputs": [
    {
     "data": {
      "text/plain": [
       "['book24']"
      ]
     },
     "execution_count": 6,
     "metadata": {},
     "output_type": "execute_result"
    }
   ],
   "source": [
    "books_DB.list_collection_names()"
   ]
  },
  {
   "cell_type": "code",
   "execution_count": 7,
   "id": "efe7eca4",
   "metadata": {},
   "outputs": [],
   "source": [
    "books = books_DB['book24']"
   ]
  },
  {
   "cell_type": "code",
   "execution_count": 8,
   "id": "7192db69",
   "metadata": {},
   "outputs": [
    {
     "data": {
      "text/plain": [
       "146"
      ]
     },
     "execution_count": 8,
     "metadata": {},
     "output_type": "execute_result"
    }
   ],
   "source": [
    "n_books = len(list(books.find()))\n",
    "n_books"
   ]
  },
  {
   "cell_type": "code",
   "execution_count": 9,
   "id": "c0f28d65",
   "metadata": {},
   "outputs": [
    {
     "data": {
      "text/plain": [
       "{'_id': ObjectId('63fd0457c3eeb755fe28c558'),\n",
       " 'name': ['Ведьмак. История франшизы. От фэнтези до культовой игровой саги '],\n",
       " 'author': ' Рафаэль Люка ',\n",
       " 'price': ' 895 ₽ ',\n",
       " 'discont_price': ' 734 ₽ ',\n",
       " 'rating': ' 0,0 ',\n",
       " 'link': 'https://book24.ru/product/vedmak-istoriya-franshizy-ot-fentezi-do-kultovoy-igrovoy-sagi-6650087/'}"
      ]
     },
     "execution_count": 9,
     "metadata": {},
     "output_type": "execute_result"
    }
   ],
   "source": [
    "book = books.find()\n",
    "book.next()"
   ]
  },
  {
   "cell_type": "code",
   "execution_count": 10,
   "id": "985549d0",
   "metadata": {},
   "outputs": [
    {
     "data": {
      "text/html": [
       "<div>\n",
       "<style scoped>\n",
       "    .dataframe tbody tr th:only-of-type {\n",
       "        vertical-align: middle;\n",
       "    }\n",
       "\n",
       "    .dataframe tbody tr th {\n",
       "        vertical-align: top;\n",
       "    }\n",
       "\n",
       "    .dataframe thead th {\n",
       "        text-align: right;\n",
       "    }\n",
       "</style>\n",
       "<table border=\"1\" class=\"dataframe\">\n",
       "  <thead>\n",
       "    <tr style=\"text-align: right;\">\n",
       "      <th></th>\n",
       "      <th>name</th>\n",
       "      <th>author</th>\n",
       "      <th>price</th>\n",
       "      <th>discont_price</th>\n",
       "      <th>rating</th>\n",
       "      <th>link</th>\n",
       "    </tr>\n",
       "  </thead>\n",
       "  <tbody>\n",
       "    <tr>\n",
       "      <th>141</th>\n",
       "      <td>[Справочник PYTHON. Кратко, быстро, под рукой ]</td>\n",
       "      <td>Кольцов Д., Дубовик Е.</td>\n",
       "      <td>690 ₽</td>\n",
       "      <td>380 ₽</td>\n",
       "      <td>0,0</td>\n",
       "      <td>https://book24.ru/product/spravochnik-python-k...</td>\n",
       "    </tr>\n",
       "    <tr>\n",
       "      <th>142</th>\n",
       "      <td>[ Грокаем алгоритмы. Иллюстрированное пособие ...</td>\n",
       "      <td>Бхаргава А.</td>\n",
       "      <td>1 103 ₽</td>\n",
       "      <td>1 015 ₽</td>\n",
       "      <td>0,0</td>\n",
       "      <td>https://book24.ru/product/grokaem-algoritmy-il...</td>\n",
       "    </tr>\n",
       "    <tr>\n",
       "      <th>143</th>\n",
       "      <td>[Планшеты и смартфоны на Android. Простой и по...</td>\n",
       "      <td>Василий Леонов</td>\n",
       "      <td>249 ₽</td>\n",
       "      <td>57 ₽</td>\n",
       "      <td>4</td>\n",
       "      <td>https://book24.ru/product/planshety-i-smartfon...</td>\n",
       "    </tr>\n",
       "    <tr>\n",
       "      <th>144</th>\n",
       "      <td>[Создание трилогии BioShock. От Восторга до Ко...</td>\n",
       "      <td>Рафаэль Люка</td>\n",
       "      <td>895 ₽</td>\n",
       "      <td>734 ₽</td>\n",
       "      <td>4,5</td>\n",
       "      <td>https://book24.ru/product/sozdanie-trilogii-bi...</td>\n",
       "    </tr>\n",
       "    <tr>\n",
       "      <th>145</th>\n",
       "      <td>[10 аргументов удалить все свои аккаунты в соц...</td>\n",
       "      <td>Джарон Ланье</td>\n",
       "      <td>679 ₽</td>\n",
       "      <td>122 ₽</td>\n",
       "      <td>4,1</td>\n",
       "      <td>https://book24.ru/product/10-argumentov-udalit...</td>\n",
       "    </tr>\n",
       "  </tbody>\n",
       "</table>\n",
       "</div>"
      ],
      "text/plain": [
       "                                                  name  \\\n",
       "141    [Справочник PYTHON. Кратко, быстро, под рукой ]   \n",
       "142  [ Грокаем алгоритмы. Иллюстрированное пособие ...   \n",
       "143  [Планшеты и смартфоны на Android. Простой и по...   \n",
       "144  [Создание трилогии BioShock. От Восторга до Ко...   \n",
       "145  [10 аргументов удалить все свои аккаунты в соц...   \n",
       "\n",
       "                       author      price discont_price rating  \\\n",
       "141   Кольцов Д., Дубовик Е.      690 ₽         380 ₽    0,0    \n",
       "142              Бхаргава А.    1 103 ₽       1 015 ₽    0,0    \n",
       "143            Василий Леонов     249 ₽          57 ₽      4    \n",
       "144              Рафаэль Люка     895 ₽         734 ₽    4,5    \n",
       "145              Джарон Ланье     679 ₽         122 ₽    4,1    \n",
       "\n",
       "                                                  link  \n",
       "141  https://book24.ru/product/spravochnik-python-k...  \n",
       "142  https://book24.ru/product/grokaem-algoritmy-il...  \n",
       "143  https://book24.ru/product/planshety-i-smartfon...  \n",
       "144  https://book24.ru/product/sozdanie-trilogii-bi...  \n",
       "145  https://book24.ru/product/10-argumentov-udalit...  "
      ]
     },
     "execution_count": 10,
     "metadata": {},
     "output_type": "execute_result"
    }
   ],
   "source": [
    "df = pd.DataFrame(books.find())\n",
    "df = df.drop('_id', axis=1)\n",
    "df.tail()"
   ]
  },
  {
   "cell_type": "code",
   "execution_count": 11,
   "id": "4c94522c",
   "metadata": {},
   "outputs": [
    {
     "data": {
      "text/plain": [
       "https://book24.ru/product/vedmak-istoriya-franshizy-ot-fentezi-do-kultovoy-igrovoy-sagi-6650087/                                           1\n",
       "https://book24.ru/product/kvantovye-vychisleniya-dlya-nastoyashchikh-aytishnikov-5457965/                                                  1\n",
       "https://book24.ru/product/legkiy-sposob-vyuchit-python-3-eshche-glubzhe-5479064/                                                           1\n",
       "https://book24.ru/product/algoritm-sudnogo-dnya-kak-facebook-google-microsoft-apple-i-drugie-korporatsii-sozdayut-iskusstvenny-5949791/    1\n",
       "https://book24.ru/product/ubuntu-linux-s-nulya-6101666/                                                                                    1\n",
       "                                                                                                                                          ..\n",
       "https://book24.ru/product/spravochnik-python-kratko-bystro-pod-rukoy-6102945/                                                              1\n",
       "https://book24.ru/product/grokaem-algoritmy-illyustrirovannoe-posobie-dlya-programmistov-i-lyubopytstvuyushchikh-vynos-na-oblo-5765273/    1\n",
       "https://book24.ru/product/planshety-i-smartfony-na-android-prostoy-i-ponyatnyy-samouchitel-2-e-izdanie-1623268/                            1\n",
       "https://book24.ru/product/grafiki-lgut-kak-stat-informatsionno-gramotnym-chelovekom-v-mire-dannykh-6157109/                                1\n",
       "https://book24.ru/product/10-argumentov-udalit-vse-svoi-akkaunty-v-sotsialnykh-setyakh-5418888/                                            1\n",
       "Name: link, Length: 146, dtype: int64"
      ]
     },
     "execution_count": 11,
     "metadata": {},
     "output_type": "execute_result"
    }
   ],
   "source": [
    "df['link'].value_counts().sort_values()"
   ]
  },
  {
   "cell_type": "code",
   "execution_count": null,
   "id": "4f40b891",
   "metadata": {},
   "outputs": [],
   "source": []
  }
 ],
 "metadata": {
  "kernelspec": {
   "display_name": "Python 3 (ipykernel)",
   "language": "python",
   "name": "python3"
  },
  "language_info": {
   "codemirror_mode": {
    "name": "ipython",
    "version": 3
   },
   "file_extension": ".py",
   "mimetype": "text/x-python",
   "name": "python",
   "nbconvert_exporter": "python",
   "pygments_lexer": "ipython3",
   "version": "3.9.12"
  }
 },
 "nbformat": 4,
 "nbformat_minor": 5
}
