{
 "cells": [
  {
   "cell_type": "code",
   "execution_count": 1,
   "id": "c52abf2c",
   "metadata": {},
   "outputs": [],
   "source": [
    "from pprint import pprint\n",
    "from pymongo import MongoClient\n",
    "\n",
    "import pandas as pd\n",
    "import matplotlib.pyplot as plt\n",
    "%matplotlib inline"
   ]
  },
  {
   "cell_type": "code",
   "execution_count": 2,
   "id": "5d47b49c",
   "metadata": {},
   "outputs": [
    {
     "name": "stdout",
     "output_type": "stream",
     "text": [
      "Stopping `mongodb-community`... (might take a while)\n",
      "\u001b[34m==>\u001b[0m \u001b[1mSuccessfully stopped `mongodb-community` (label: homebrew.mxcl.mongodb-commu\u001b[0m\n",
      "\u001b[34m==>\u001b[0m \u001b[1mSuccessfully started `mongodb-community` (label: homebrew.mxcl.mongodb-commu\u001b[0m\n"
     ]
    }
   ],
   "source": [
    "!brew services restart mongodb-community@6.0"
   ]
  },
  {
   "cell_type": "code",
   "execution_count": 3,
   "id": "0888a5da",
   "metadata": {},
   "outputs": [],
   "source": [
    "client = MongoClient()"
   ]
  },
  {
   "cell_type": "code",
   "execution_count": 4,
   "id": "d92ab7bb",
   "metadata": {},
   "outputs": [
    {
     "data": {
      "text/plain": [
       "['Books24_DB',\n",
       " 'Cars_DB',\n",
       " 'Grustnogram_DB',\n",
       " 'HH_vacancies_db',\n",
       " 'admin',\n",
       " 'config',\n",
       " 'local']"
      ]
     },
     "execution_count": 4,
     "metadata": {},
     "output_type": "execute_result"
    }
   ],
   "source": [
    "client.list_database_names()"
   ]
  },
  {
   "cell_type": "code",
   "execution_count": 5,
   "id": "becdaffd",
   "metadata": {},
   "outputs": [],
   "source": [
    "grustnogram = client.Grustnogram_DB"
   ]
  },
  {
   "cell_type": "code",
   "execution_count": 6,
   "id": "ba11172d",
   "metadata": {},
   "outputs": [
    {
     "data": {
      "text/plain": [
       "['ananishnev']"
      ]
     },
     "execution_count": 6,
     "metadata": {},
     "output_type": "execute_result"
    }
   ],
   "source": [
    "grustnogram.list_collection_names()"
   ]
  },
  {
   "cell_type": "code",
   "execution_count": 7,
   "id": "9d05c92f",
   "metadata": {},
   "outputs": [],
   "source": [
    "ananishnev = grustnogram['ananishnev']"
   ]
  },
  {
   "cell_type": "code",
   "execution_count": 8,
   "id": "8aeac4aa",
   "metadata": {},
   "outputs": [
    {
     "data": {
      "text/plain": [
       "40"
      ]
     },
     "execution_count": 8,
     "metadata": {},
     "output_type": "execute_result"
    }
   ],
   "source": [
    "n_followers = len(list(ananishnev.find()))\n",
    "n_followers"
   ]
  },
  {
   "cell_type": "code",
   "execution_count": 9,
   "id": "681ec7cd",
   "metadata": {},
   "outputs": [
    {
     "data": {
      "text/html": [
       "<div>\n",
       "<style scoped>\n",
       "    .dataframe tbody tr th:only-of-type {\n",
       "        vertical-align: middle;\n",
       "    }\n",
       "\n",
       "    .dataframe tbody tr th {\n",
       "        vertical-align: top;\n",
       "    }\n",
       "\n",
       "    .dataframe thead th {\n",
       "        text-align: right;\n",
       "    }\n",
       "</style>\n",
       "<table border=\"1\" class=\"dataframe\">\n",
       "  <thead>\n",
       "    <tr style=\"text-align: right;\">\n",
       "      <th></th>\n",
       "      <th>id</th>\n",
       "      <th>nickname</th>\n",
       "      <th>name</th>\n",
       "      <th>avatar</th>\n",
       "      <th>tag</th>\n",
       "    </tr>\n",
       "  </thead>\n",
       "  <tbody>\n",
       "    <tr>\n",
       "      <th>0</th>\n",
       "      <td>168935</td>\n",
       "      <td>seesaworsiso</td>\n",
       "      <td>Sandra</td>\n",
       "      <td>https://560621.selcdn.ru/gg/168935_1655283717_...</td>\n",
       "      <td>Follower</td>\n",
       "    </tr>\n",
       "    <tr>\n",
       "      <th>1</th>\n",
       "      <td>168934</td>\n",
       "      <td>depralison</td>\n",
       "      <td>alison in depression</td>\n",
       "      <td>https://560621.selcdn.ru/gg/168934_1655283526_...</td>\n",
       "      <td>Follower</td>\n",
       "    </tr>\n",
       "    <tr>\n",
       "      <th>2</th>\n",
       "      <td>168933</td>\n",
       "      <td>marie.usti</td>\n",
       "      <td>Мария Усти</td>\n",
       "      <td>https://560621.selcdn.ru/gg/168933_1655283498_...</td>\n",
       "      <td>Follower</td>\n",
       "    </tr>\n",
       "    <tr>\n",
       "      <th>3</th>\n",
       "      <td>161418</td>\n",
       "      <td>v_11.11</td>\n",
       "      <td></td>\n",
       "      <td>https://560621.selcdn.ru/gg/empty_profile.jpg</td>\n",
       "      <td>Follower</td>\n",
       "    </tr>\n",
       "    <tr>\n",
       "      <th>4</th>\n",
       "      <td>159101</td>\n",
       "      <td>qop</td>\n",
       "      <td>Общедоступный аккаунт</td>\n",
       "      <td>https://560621.selcdn.ru/gg/159101_1662394165_...</td>\n",
       "      <td>Follower</td>\n",
       "    </tr>\n",
       "  </tbody>\n",
       "</table>\n",
       "</div>"
      ],
      "text/plain": [
       "       id      nickname                   name  \\\n",
       "0  168935  seesaworsiso                 Sandra   \n",
       "1  168934    depralison  alison in depression    \n",
       "2  168933    marie.usti             Мария Усти   \n",
       "3  161418       v_11.11                          \n",
       "4  159101           qop  Общедоступный аккаунт   \n",
       "\n",
       "                                              avatar       tag  \n",
       "0  https://560621.selcdn.ru/gg/168935_1655283717_...  Follower  \n",
       "1  https://560621.selcdn.ru/gg/168934_1655283526_...  Follower  \n",
       "2  https://560621.selcdn.ru/gg/168933_1655283498_...  Follower  \n",
       "3      https://560621.selcdn.ru/gg/empty_profile.jpg  Follower  \n",
       "4  https://560621.selcdn.ru/gg/159101_1662394165_...  Follower  "
      ]
     },
     "execution_count": 9,
     "metadata": {},
     "output_type": "execute_result"
    }
   ],
   "source": [
    "df = pd.DataFrame(ananishnev.find())\n",
    "df = df.drop('_id', axis=1)\n",
    "df.head()"
   ]
  },
  {
   "cell_type": "code",
   "execution_count": 10,
   "id": "fab4de3f",
   "metadata": {},
   "outputs": [],
   "source": [
    "follows = df.loc[df['tag'] == 'is Followed']"
   ]
  },
  {
   "cell_type": "code",
   "execution_count": 11,
   "id": "63c5699d",
   "metadata": {},
   "outputs": [],
   "source": [
    "followers = df.loc[df['tag'] == 'Follower']"
   ]
  },
  {
   "cell_type": "code",
   "execution_count": 12,
   "id": "7fd04872",
   "metadata": {},
   "outputs": [
    {
     "data": {
      "image/png": "[encoded data removed]",
      "text/plain": [
       "<Figure size 432x288 with 1 Axes>"
      ]
     },
     "metadata": {},
     "output_type": "display_data"
    }
   ],
   "source": [
    "sizes = [len(follows['id']), len(followers['id'])]\n",
    "labels = ['Follows', 'Followers']\n",
    "fig1, ax1 = plt.subplots()\n",
    "ax1.pie(sizes, labels=labels, autopct='%1.2f%%')\n",
    "plt.show()"
   ]
  }
 ],
 "metadata": {
  "kernelspec": {
   "display_name": "Python 3 (ipykernel)",
   "language": "python",
   "name": "python3"
  },
  "language_info": {
   "codemirror_mode": {
    "name": "ipython",
    "version": 3
   },
   "file_extension": ".py",
   "mimetype": "text/x-python",
   "name": "python",
   "nbconvert_exporter": "python",
   "pygments_lexer": "ipython3",
   "version": "3.9.12"
  }
 },
 "nbformat": 4,
 "nbformat_minor": 5
}
